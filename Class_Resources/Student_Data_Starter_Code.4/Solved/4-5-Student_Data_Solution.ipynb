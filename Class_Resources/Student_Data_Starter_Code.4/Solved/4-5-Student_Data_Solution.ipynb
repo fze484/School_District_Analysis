{
 "cells": [
  {
   "cell_type": "markdown",
   "id": "418227be-703e-4b38-a80e-2a73225db071",
   "metadata": {
    "tags": []
   },
   "source": [
    "## Student Data Analysis\n",
    "\n",
    "In this activity, you will use the steps below to analyze a dataset of student test scores from schools in a fake school district.\n",
    "\n",
    "1. Collect the data.\n",
    "\n",
    "2. Prepare the data.\n",
    "\n",
    "3. Summarize the data. \n",
    "\n",
    "4. Drill down into the data. \n",
    "\n",
    "5. Make comparisons. \n",
    "\n"
   ]
  },
  {
   "cell_type": "markdown",
   "id": "9c960cd6-a10b-4e3d-ba23-fe7a3ef7ae95",
   "metadata": {},
   "source": [
    "### Import required libraries and dependencies\n",
    "\n",
    "<!-- https://pypi.org/project/pathlib2/ -->"
   ]
  },
  {
   "cell_type": "code",
   "execution_count": 1,
   "id": "08e3103c-4f97-4196-b801-9367c2814306",
   "metadata": {},
   "outputs": [],
   "source": [
    "import pandas as pd\n",
    "import os"
   ]
  },
  {
   "cell_type": "markdown",
   "id": "a47f3bec-4c1a-4b1e-9747-546678c1bb82",
   "metadata": {},
   "source": [
    "## Step 1: Collect the data.\n",
    "\n",
    "To collect the data that you’ll need, complete the following steps:\n",
    "\n",
    "**1. Using the Pandas `read_csv` function and the `os.path.join` function, import the data from the `new_student_data.csv` file, and create a DataFrame called student_df.**"
   ]
  },
  {
   "cell_type": "code",
   "execution_count": 2,
   "id": "a57b85c1-d71a-41d4-9e4e-8f84d5655c2c",
   "metadata": {},
   "outputs": [],
   "source": [
    "student_data = os.path.join('../Resources/new_student_data.csv')\n",
    "student_df = pd.read_csv(student_data)"
   ]
  },
  {
   "cell_type": "markdown",
   "id": "cd5cafc8-06d6-42ec-9fab-910604de3398",
   "metadata": {},
   "source": [
    "**2. Use the head (and/or the tail) function to confirm that Pandas properly imported the data.**"
   ]
  },
  {
   "cell_type": "code",
   "execution_count": 3,
   "id": "a59a4d68-410a-43f0-a187-d1832bb1c675",
   "metadata": {},
   "outputs": [
    {
     "data": {
      "text/html": [
       "<div>\n",
       "<style scoped>\n",
       "    .dataframe tbody tr th:only-of-type {\n",
       "        vertical-align: middle;\n",
       "    }\n",
       "\n",
       "    .dataframe tbody tr th {\n",
       "        vertical-align: top;\n",
       "    }\n",
       "\n",
       "    .dataframe thead th {\n",
       "        text-align: right;\n",
       "    }\n",
       "</style>\n",
       "<table border=\"1\" class=\"dataframe\">\n",
       "  <thead>\n",
       "    <tr style=\"text-align: right;\">\n",
       "      <th></th>\n",
       "      <th>student_id</th>\n",
       "      <th>student_name</th>\n",
       "      <th>grade</th>\n",
       "      <th>school_name</th>\n",
       "      <th>reading_score</th>\n",
       "      <th>math_score</th>\n",
       "      <th>school_type</th>\n",
       "    </tr>\n",
       "  </thead>\n",
       "  <tbody>\n",
       "    <tr>\n",
       "      <th>0</th>\n",
       "      <td>127008367</td>\n",
       "      <td>Sarah Douglas</td>\n",
       "      <td>11th</td>\n",
       "      <td>Chang High School</td>\n",
       "      <td>87.2</td>\n",
       "      <td>64.1</td>\n",
       "      <td>Public</td>\n",
       "    </tr>\n",
       "    <tr>\n",
       "      <th>1</th>\n",
       "      <td>33365505</td>\n",
       "      <td>Francisco Osborne</td>\n",
       "      <td>9th</td>\n",
       "      <td>Fisher High School</td>\n",
       "      <td>NaN</td>\n",
       "      <td>NaN</td>\n",
       "      <td>Public</td>\n",
       "    </tr>\n",
       "    <tr>\n",
       "      <th>2</th>\n",
       "      <td>44359500</td>\n",
       "      <td>Ryan Haas</td>\n",
       "      <td>12th</td>\n",
       "      <td>Campbell High School</td>\n",
       "      <td>91.6</td>\n",
       "      <td>54.7</td>\n",
       "      <td>Public</td>\n",
       "    </tr>\n",
       "    <tr>\n",
       "      <th>3</th>\n",
       "      <td>24791243</td>\n",
       "      <td>Kathryn Mack</td>\n",
       "      <td>11th</td>\n",
       "      <td>Richard High School</td>\n",
       "      <td>68.9</td>\n",
       "      <td>73.3</td>\n",
       "      <td>Charter</td>\n",
       "    </tr>\n",
       "    <tr>\n",
       "      <th>4</th>\n",
       "      <td>121467881</td>\n",
       "      <td>Harold Reynolds</td>\n",
       "      <td>12th</td>\n",
       "      <td>Chang High School</td>\n",
       "      <td>68.7</td>\n",
       "      <td>43.4</td>\n",
       "      <td>Public</td>\n",
       "    </tr>\n",
       "  </tbody>\n",
       "</table>\n",
       "</div>"
      ],
      "text/plain": [
       "   student_id       student_name grade           school_name  reading_score  \\\n",
       "0   127008367      Sarah Douglas  11th     Chang High School           87.2   \n",
       "1    33365505  Francisco Osborne   9th    Fisher High School            NaN   \n",
       "2    44359500          Ryan Haas  12th  Campbell High School           91.6   \n",
       "3    24791243       Kathryn Mack  11th   Richard High School           68.9   \n",
       "4   121467881    Harold Reynolds  12th     Chang High School           68.7   \n",
       "\n",
       "   math_score school_type  \n",
       "0        64.1      Public  \n",
       "1         NaN      Public  \n",
       "2        54.7      Public  \n",
       "3        73.3     Charter  \n",
       "4        43.4      Public  "
      ]
     },
     "execution_count": 3,
     "metadata": {},
     "output_type": "execute_result"
    }
   ],
   "source": [
    "student_df.head()"
   ]
  },
  {
   "cell_type": "markdown",
   "id": "d7f4b183-8e6a-4d83-9d40-a5fd665ac07f",
   "metadata": {},
   "source": [
    "## Step 2: Prepare the Data\n",
    "\n",
    "To prepare and clean your data for analysis, complete the following steps:\n",
    "    \n",
    "**1. Check for and replace all `NaN`, or missing, values in the student_df DataFrame.**\n",
    "\n",
    "Use the following methods and functions to complete this section:\n",
    "* `count()`\n",
    "* `dropna()`\n",
    "* `duplicated()`\n",
    "* `sum()`\n",
    "* `drop_duplicates()`"
   ]
  },
  {
   "cell_type": "code",
   "execution_count": 5,
   "id": "6cf0bf6f-49f3-49db-81f0-d12cd0864142",
   "metadata": {},
   "outputs": [
    {
     "data": {
      "text/plain": [
       "student_id          0\n",
       "student_name        0\n",
       "grade               0\n",
       "school_name         0\n",
       "reading_score    1414\n",
       "math_score        705\n",
       "school_type         0\n",
       "dtype: int64"
      ]
     },
     "execution_count": 5,
     "metadata": {},
     "output_type": "execute_result"
    }
   ],
   "source": [
    "# Check for null values\n",
    "student_df.isna().sum()"
   ]
  },
  {
   "cell_type": "code",
   "execution_count": 6,
   "id": "08267d29",
   "metadata": {},
   "outputs": [
    {
     "data": {
      "text/plain": [
       "student_id       0\n",
       "student_name     0\n",
       "grade            0\n",
       "school_name      0\n",
       "reading_score    0\n",
       "math_score       0\n",
       "school_type      0\n",
       "dtype: int64"
      ]
     },
     "execution_count": 6,
     "metadata": {},
     "output_type": "execute_result"
    }
   ],
   "source": [
    "# Drop null values\n",
    "student_df = student_df.dropna()\n",
    "student_df.isna().sum()"
   ]
  },
  {
   "cell_type": "code",
   "execution_count": 7,
   "id": "acd31d36-7ad9-4ddf-b668-1713bdddf76c",
   "metadata": {},
   "outputs": [
    {
     "data": {
      "text/plain": [
       "1299"
      ]
     },
     "execution_count": 7,
     "metadata": {},
     "output_type": "execute_result"
    }
   ],
   "source": [
    "# Check for duplicate rows\n",
    "student_df.duplicated().sum()"
   ]
  },
  {
   "cell_type": "code",
   "execution_count": 8,
   "id": "f7c0b82a-57f0-436d-b85c-7cccade0fa5a",
   "metadata": {},
   "outputs": [
    {
     "data": {
      "text/plain": [
       "0"
      ]
     },
     "execution_count": 8,
     "metadata": {},
     "output_type": "execute_result"
    }
   ],
   "source": [
    "# Drop duplicate rows\n",
    "student_df = student_df.drop_duplicates()\n",
    "student_df.duplicated().sum()"
   ]
  },
  {
   "cell_type": "markdown",
   "id": "79db6404-9738-4271-bdb9-31f738c00aa7",
   "metadata": {},
   "source": [
    "**2. Use the `str.replace` function to remove the \"th\" from the grade levels in the grade column.**"
   ]
  },
  {
   "cell_type": "code",
   "execution_count": 9,
   "id": "52ea6a39-311b-4d8f-92d9-c79147304ba7",
   "metadata": {},
   "outputs": [
    {
     "data": {
      "text/plain": [
       "student_id         int64\n",
       "student_name      object\n",
       "grade             object\n",
       "school_name       object\n",
       "reading_score    float64\n",
       "math_score       float64\n",
       "school_type       object\n",
       "dtype: object"
      ]
     },
     "execution_count": 9,
     "metadata": {},
     "output_type": "execute_result"
    }
   ],
   "source": [
    "# Check the type of the grade column with dtypes\n",
    "student_df.dtypes"
   ]
  },
  {
   "cell_type": "code",
   "execution_count": 10,
   "id": "c2d41d9a-68c1-4f66-b9b9-67f0ba14474d",
   "metadata": {},
   "outputs": [
    {
     "data": {
      "text/plain": [
       "0        11th\n",
       "2        12th\n",
       "3        11th\n",
       "4        12th\n",
       "5         9th\n",
       "         ... \n",
       "13935    10th\n",
       "13936    10th\n",
       "13937     9th\n",
       "13938    10th\n",
       "13939    11th\n",
       "Name: grade, Length: 10604, dtype: object"
      ]
     },
     "execution_count": 10,
     "metadata": {},
     "output_type": "execute_result"
    }
   ],
   "source": [
    "# View the grade column to look for a reason it isn't numeric\n",
    "student_df['grade']"
   ]
  },
  {
   "cell_type": "code",
   "execution_count": 11,
   "id": "a290778b-2909-48ad-a7fd-516feea064b7",
   "metadata": {},
   "outputs": [],
   "source": [
    "# Remove 'th' suffixes by replacing with and empty string\n",
    "student_df['grade'] = student_df['grade'].str.replace('th', '')"
   ]
  },
  {
   "cell_type": "code",
   "execution_count": 12,
   "id": "a00629b4-93c9-4b02-aefa-cc539f94f474",
   "metadata": {},
   "outputs": [
    {
     "data": {
      "text/plain": [
       "0        11\n",
       "2        12\n",
       "3        11\n",
       "4        12\n",
       "5         9\n",
       "         ..\n",
       "13935    10\n",
       "13936    10\n",
       "13937     9\n",
       "13938    10\n",
       "13939    11\n",
       "Name: grade, Length: 10604, dtype: object"
      ]
     },
     "execution_count": 12,
     "metadata": {},
     "output_type": "execute_result"
    }
   ],
   "source": [
    "# View the grade column to ensure the suffixes were removed\n",
    "student_df['grade']"
   ]
  },
  {
   "cell_type": "markdown",
   "id": "adb16d7d-583a-4d59-90b7-caafdc85074b",
   "metadata": {},
   "source": [
    "**3. Convert the data type of the \"grade\" column to a `int`.**"
   ]
  },
  {
   "cell_type": "code",
   "execution_count": 13,
   "id": "f8d19692-86d8-4a58-9d71-46981b51e14e",
   "metadata": {},
   "outputs": [
    {
     "data": {
      "text/plain": [
       "student_id         int64\n",
       "student_name      object\n",
       "grade              int64\n",
       "school_name       object\n",
       "reading_score    float64\n",
       "math_score       float64\n",
       "school_type       object\n",
       "dtype: object"
      ]
     },
     "execution_count": 13,
     "metadata": {},
     "output_type": "execute_result"
    }
   ],
   "source": [
    "student_df['grade'] = student_df['grade'].astype(int)\n",
    "student_df.dtypes"
   ]
  },
  {
   "cell_type": "markdown",
   "id": "daf3d31f-fc43-4db4-82b5-a712c62a55fb",
   "metadata": {},
   "source": [
    "**4. Use the head (and/or the tail) function to preview the DataFrame.**"
   ]
  },
  {
   "cell_type": "code",
   "execution_count": 14,
   "id": "d19af3b5-5da7-4371-a4b6-46ce13394bb6",
   "metadata": {},
   "outputs": [
    {
     "data": {
      "text/html": [
       "<div>\n",
       "<style scoped>\n",
       "    .dataframe tbody tr th:only-of-type {\n",
       "        vertical-align: middle;\n",
       "    }\n",
       "\n",
       "    .dataframe tbody tr th {\n",
       "        vertical-align: top;\n",
       "    }\n",
       "\n",
       "    .dataframe thead th {\n",
       "        text-align: right;\n",
       "    }\n",
       "</style>\n",
       "<table border=\"1\" class=\"dataframe\">\n",
       "  <thead>\n",
       "    <tr style=\"text-align: right;\">\n",
       "      <th></th>\n",
       "      <th>student_id</th>\n",
       "      <th>student_name</th>\n",
       "      <th>grade</th>\n",
       "      <th>school_name</th>\n",
       "      <th>reading_score</th>\n",
       "      <th>math_score</th>\n",
       "      <th>school_type</th>\n",
       "    </tr>\n",
       "  </thead>\n",
       "  <tbody>\n",
       "    <tr>\n",
       "      <th>0</th>\n",
       "      <td>127008367</td>\n",
       "      <td>Sarah Douglas</td>\n",
       "      <td>11</td>\n",
       "      <td>Chang High School</td>\n",
       "      <td>87.2</td>\n",
       "      <td>64.1</td>\n",
       "      <td>Public</td>\n",
       "    </tr>\n",
       "    <tr>\n",
       "      <th>2</th>\n",
       "      <td>44359500</td>\n",
       "      <td>Ryan Haas</td>\n",
       "      <td>12</td>\n",
       "      <td>Campbell High School</td>\n",
       "      <td>91.6</td>\n",
       "      <td>54.7</td>\n",
       "      <td>Public</td>\n",
       "    </tr>\n",
       "    <tr>\n",
       "      <th>3</th>\n",
       "      <td>24791243</td>\n",
       "      <td>Kathryn Mack</td>\n",
       "      <td>11</td>\n",
       "      <td>Richard High School</td>\n",
       "      <td>68.9</td>\n",
       "      <td>73.3</td>\n",
       "      <td>Charter</td>\n",
       "    </tr>\n",
       "    <tr>\n",
       "      <th>4</th>\n",
       "      <td>121467881</td>\n",
       "      <td>Harold Reynolds</td>\n",
       "      <td>12</td>\n",
       "      <td>Chang High School</td>\n",
       "      <td>68.7</td>\n",
       "      <td>43.4</td>\n",
       "      <td>Public</td>\n",
       "    </tr>\n",
       "    <tr>\n",
       "      <th>5</th>\n",
       "      <td>79397676</td>\n",
       "      <td>Kyle Brooks</td>\n",
       "      <td>9</td>\n",
       "      <td>Turner High School</td>\n",
       "      <td>72.6</td>\n",
       "      <td>55.4</td>\n",
       "      <td>Public</td>\n",
       "    </tr>\n",
       "  </tbody>\n",
       "</table>\n",
       "</div>"
      ],
      "text/plain": [
       "   student_id     student_name  grade           school_name  reading_score  \\\n",
       "0   127008367    Sarah Douglas     11     Chang High School           87.2   \n",
       "2    44359500        Ryan Haas     12  Campbell High School           91.6   \n",
       "3    24791243     Kathryn Mack     11   Richard High School           68.9   \n",
       "4   121467881  Harold Reynolds     12     Chang High School           68.7   \n",
       "5    79397676      Kyle Brooks      9    Turner High School           72.6   \n",
       "\n",
       "   math_score school_type  \n",
       "0        64.1      Public  \n",
       "2        54.7      Public  \n",
       "3        73.3     Charter  \n",
       "4        43.4      Public  \n",
       "5        55.4      Public  "
      ]
     },
     "execution_count": 14,
     "metadata": {},
     "output_type": "execute_result"
    }
   ],
   "source": [
    "student_df.head()"
   ]
  },
  {
   "cell_type": "markdown",
   "id": "e52c4a6f-7dd7-4bb6-8f75-5f0995e7b32b",
   "metadata": {},
   "source": [
    "## Step 3: Summarize the Data\n",
    "\n",
    "To summarize your data, complete the following steps:\n",
    "\n",
    "**1. Generate the summary statistics for each DataFrame by using the `describe` function.**"
   ]
  },
  {
   "cell_type": "code",
   "execution_count": 15,
   "id": "7963f284-3d72-4ba9-93f6-dd086cef1811",
   "metadata": {},
   "outputs": [
    {
     "data": {
      "text/html": [
       "<div>\n",
       "<style scoped>\n",
       "    .dataframe tbody tr th:only-of-type {\n",
       "        vertical-align: middle;\n",
       "    }\n",
       "\n",
       "    .dataframe tbody tr th {\n",
       "        vertical-align: top;\n",
       "    }\n",
       "\n",
       "    .dataframe thead th {\n",
       "        text-align: right;\n",
       "    }\n",
       "</style>\n",
       "<table border=\"1\" class=\"dataframe\">\n",
       "  <thead>\n",
       "    <tr style=\"text-align: right;\">\n",
       "      <th></th>\n",
       "      <th>student_id</th>\n",
       "      <th>grade</th>\n",
       "      <th>reading_score</th>\n",
       "      <th>math_score</th>\n",
       "    </tr>\n",
       "  </thead>\n",
       "  <tbody>\n",
       "    <tr>\n",
       "      <th>count</th>\n",
       "      <td>1.060400e+04</td>\n",
       "      <td>10604.000000</td>\n",
       "      <td>10604.000000</td>\n",
       "      <td>10604.000000</td>\n",
       "    </tr>\n",
       "    <tr>\n",
       "      <th>mean</th>\n",
       "      <td>6.971953e+07</td>\n",
       "      <td>10.566013</td>\n",
       "      <td>75.241513</td>\n",
       "      <td>64.343248</td>\n",
       "    </tr>\n",
       "    <tr>\n",
       "      <th>std</th>\n",
       "      <td>3.470851e+07</td>\n",
       "      <td>1.128907</td>\n",
       "      <td>14.283955</td>\n",
       "      <td>16.662284</td>\n",
       "    </tr>\n",
       "    <tr>\n",
       "      <th>min</th>\n",
       "      <td>1.000132e+07</td>\n",
       "      <td>9.000000</td>\n",
       "      <td>9.500000</td>\n",
       "      <td>1.400000</td>\n",
       "    </tr>\n",
       "    <tr>\n",
       "      <th>25%</th>\n",
       "      <td>3.974626e+07</td>\n",
       "      <td>10.000000</td>\n",
       "      <td>65.900000</td>\n",
       "      <td>52.700000</td>\n",
       "    </tr>\n",
       "    <tr>\n",
       "      <th>50%</th>\n",
       "      <td>6.996368e+07</td>\n",
       "      <td>11.000000</td>\n",
       "      <td>76.400000</td>\n",
       "      <td>65.000000</td>\n",
       "    </tr>\n",
       "    <tr>\n",
       "      <th>75%</th>\n",
       "      <td>9.984440e+07</td>\n",
       "      <td>12.000000</td>\n",
       "      <td>86.300000</td>\n",
       "      <td>76.400000</td>\n",
       "    </tr>\n",
       "    <tr>\n",
       "      <th>max</th>\n",
       "      <td>1.299903e+08</td>\n",
       "      <td>12.000000</td>\n",
       "      <td>100.000000</td>\n",
       "      <td>100.000000</td>\n",
       "    </tr>\n",
       "  </tbody>\n",
       "</table>\n",
       "</div>"
      ],
      "text/plain": [
       "         student_id         grade  reading_score    math_score\n",
       "count  1.060400e+04  10604.000000   10604.000000  10604.000000\n",
       "mean   6.971953e+07     10.566013      75.241513     64.343248\n",
       "std    3.470851e+07      1.128907      14.283955     16.662284\n",
       "min    1.000132e+07      9.000000       9.500000      1.400000\n",
       "25%    3.974626e+07     10.000000      65.900000     52.700000\n",
       "50%    6.996368e+07     11.000000      76.400000     65.000000\n",
       "75%    9.984440e+07     12.000000      86.300000     76.400000\n",
       "max    1.299903e+08     12.000000     100.000000    100.000000"
      ]
     },
     "execution_count": 15,
     "metadata": {},
     "output_type": "execute_result"
    }
   ],
   "source": [
    "student_df.describe()"
   ]
  },
  {
   "cell_type": "markdown",
   "id": "fac61f6e",
   "metadata": {},
   "source": [
    "**2. Display the mean value of each numeric column.**"
   ]
  },
  {
   "cell_type": "code",
   "execution_count": 16,
   "id": "0d1d61ca",
   "metadata": {},
   "outputs": [
    {
     "data": {
      "text/plain": [
       "student_id       6.971953e+07\n",
       "grade            1.056601e+01\n",
       "reading_score    7.524151e+01\n",
       "math_score       6.434325e+01\n",
       "dtype: float64"
      ]
     },
     "execution_count": 16,
     "metadata": {},
     "output_type": "execute_result"
    }
   ],
   "source": [
    "student_df.mean()"
   ]
  },
  {
   "cell_type": "markdown",
   "id": "a30fd8b5",
   "metadata": {},
   "source": [
    "**3. Display the maximum value of every column.**"
   ]
  },
  {
   "cell_type": "code",
   "execution_count": 17,
   "id": "5b695731",
   "metadata": {},
   "outputs": [
    {
     "data": {
      "text/plain": [
       "student_id               129990295\n",
       "student_name            Zoe Graham\n",
       "grade                           12\n",
       "school_name      Woods High School\n",
       "reading_score                100.0\n",
       "math_score                   100.0\n",
       "school_type                 Public\n",
       "dtype: object"
      ]
     },
     "execution_count": 17,
     "metadata": {},
     "output_type": "execute_result"
    }
   ],
   "source": [
    "student_df.max()"
   ]
  },
  {
   "cell_type": "markdown",
   "id": "b63aebef",
   "metadata": {},
   "source": [
    "**4. Generate the minimum math score, and store it in the `min_math_score` variable.**"
   ]
  },
  {
   "cell_type": "code",
   "execution_count": 18,
   "id": "5f052513",
   "metadata": {},
   "outputs": [
    {
     "data": {
      "text/plain": [
       "1.4"
      ]
     },
     "execution_count": 18,
     "metadata": {},
     "output_type": "execute_result"
    }
   ],
   "source": [
    "min_math_score = student_df['math_score'].min()\n",
    "min_math_score"
   ]
  },
  {
   "cell_type": "markdown",
   "id": "e871f21e-6077-4d70-9c3a-926759d46bed",
   "metadata": {},
   "source": [
    "## Step 4: Drill Down into the Data.\n",
    "\n",
    "To drill down into the data, complete the following steps:\n",
    "\n",
    "**1. Use `iloc` to preview the DataFrame**"
   ]
  },
  {
   "cell_type": "code",
   "execution_count": 19,
   "id": "f555dfcc-d897-4ea7-9fc7-6b224003974f",
   "metadata": {},
   "outputs": [
    {
     "data": {
      "text/html": [
       "<div>\n",
       "<style scoped>\n",
       "    .dataframe tbody tr th:only-of-type {\n",
       "        vertical-align: middle;\n",
       "    }\n",
       "\n",
       "    .dataframe tbody tr th {\n",
       "        vertical-align: top;\n",
       "    }\n",
       "\n",
       "    .dataframe thead th {\n",
       "        text-align: right;\n",
       "    }\n",
       "</style>\n",
       "<table border=\"1\" class=\"dataframe\">\n",
       "  <thead>\n",
       "    <tr style=\"text-align: right;\">\n",
       "      <th></th>\n",
       "      <th>student_id</th>\n",
       "      <th>student_name</th>\n",
       "      <th>grade</th>\n",
       "      <th>school_name</th>\n",
       "      <th>reading_score</th>\n",
       "      <th>math_score</th>\n",
       "      <th>school_type</th>\n",
       "    </tr>\n",
       "  </thead>\n",
       "  <tbody>\n",
       "    <tr>\n",
       "      <th>0</th>\n",
       "      <td>127008367</td>\n",
       "      <td>Sarah Douglas</td>\n",
       "      <td>11</td>\n",
       "      <td>Chang High School</td>\n",
       "      <td>87.2</td>\n",
       "      <td>64.1</td>\n",
       "      <td>Public</td>\n",
       "    </tr>\n",
       "  </tbody>\n",
       "</table>\n",
       "</div>"
      ],
      "text/plain": [
       "   student_id   student_name  grade        school_name  reading_score  \\\n",
       "0   127008367  Sarah Douglas     11  Chang High School           87.2   \n",
       "\n",
       "   math_score school_type  \n",
       "0        64.1      Public  "
      ]
     },
     "execution_count": 19,
     "metadata": {},
     "output_type": "execute_result"
    }
   ],
   "source": [
    "# Use iloc to select the first row of data\n",
    "student_df.iloc[0]"
   ]
  },
  {
   "cell_type": "code",
   "execution_count": 20,
   "id": "ad0e6b1a-842a-49ae-8edf-526dfef685a1",
   "metadata": {},
   "outputs": [
    {
     "data": {
      "text/html": [
       "<div>\n",
       "<style scoped>\n",
       "    .dataframe tbody tr th:only-of-type {\n",
       "        vertical-align: middle;\n",
       "    }\n",
       "\n",
       "    .dataframe tbody tr th {\n",
       "        vertical-align: top;\n",
       "    }\n",
       "\n",
       "    .dataframe thead th {\n",
       "        text-align: right;\n",
       "    }\n",
       "</style>\n",
       "<table border=\"1\" class=\"dataframe\">\n",
       "  <thead>\n",
       "    <tr style=\"text-align: right;\">\n",
       "      <th></th>\n",
       "      <th>student_id</th>\n",
       "      <th>student_name</th>\n",
       "      <th>grade</th>\n",
       "      <th>school_name</th>\n",
       "      <th>reading_score</th>\n",
       "      <th>math_score</th>\n",
       "      <th>school_type</th>\n",
       "    </tr>\n",
       "  </thead>\n",
       "  <tbody>\n",
       "    <tr>\n",
       "      <th>8</th>\n",
       "      <td>67245222</td>\n",
       "      <td>Tina Roberts</td>\n",
       "      <td>12</td>\n",
       "      <td>Bowers High School</td>\n",
       "      <td>87.5</td>\n",
       "      <td>81.5</td>\n",
       "      <td>Public</td>\n",
       "    </tr>\n",
       "    <tr>\n",
       "      <th>2</th>\n",
       "      <td>44359500</td>\n",
       "      <td>Ryan Haas</td>\n",
       "      <td>12</td>\n",
       "      <td>Campbell High School</td>\n",
       "      <td>91.6</td>\n",
       "      <td>54.7</td>\n",
       "      <td>Public</td>\n",
       "    </tr>\n",
       "    <tr>\n",
       "      <th>0</th>\n",
       "      <td>127008367</td>\n",
       "      <td>Sarah Douglas</td>\n",
       "      <td>11</td>\n",
       "      <td>Chang High School</td>\n",
       "      <td>87.2</td>\n",
       "      <td>64.1</td>\n",
       "      <td>Public</td>\n",
       "    </tr>\n",
       "    <tr>\n",
       "      <th>4</th>\n",
       "      <td>121467881</td>\n",
       "      <td>Harold Reynolds</td>\n",
       "      <td>12</td>\n",
       "      <td>Chang High School</td>\n",
       "      <td>68.7</td>\n",
       "      <td>43.4</td>\n",
       "      <td>Public</td>\n",
       "    </tr>\n",
       "    <tr>\n",
       "      <th>10</th>\n",
       "      <td>67723113</td>\n",
       "      <td>Jeffrey Smith</td>\n",
       "      <td>9</td>\n",
       "      <td>Chang High School</td>\n",
       "      <td>84.4</td>\n",
       "      <td>83.8</td>\n",
       "      <td>Public</td>\n",
       "    </tr>\n",
       "    <tr>\n",
       "      <th>7</th>\n",
       "      <td>52477762</td>\n",
       "      <td>Tracy Flores</td>\n",
       "      <td>9</td>\n",
       "      <td>Fisher High School</td>\n",
       "      <td>72.0</td>\n",
       "      <td>67.3</td>\n",
       "      <td>Public</td>\n",
       "    </tr>\n",
       "    <tr>\n",
       "      <th>3</th>\n",
       "      <td>24791243</td>\n",
       "      <td>Kathryn Mack</td>\n",
       "      <td>11</td>\n",
       "      <td>Richard High School</td>\n",
       "      <td>68.9</td>\n",
       "      <td>73.3</td>\n",
       "      <td>Charter</td>\n",
       "    </tr>\n",
       "    <tr>\n",
       "      <th>9</th>\n",
       "      <td>101335836</td>\n",
       "      <td>Shane Smith</td>\n",
       "      <td>9</td>\n",
       "      <td>Silva High School</td>\n",
       "      <td>63.2</td>\n",
       "      <td>79.1</td>\n",
       "      <td>Public</td>\n",
       "    </tr>\n",
       "    <tr>\n",
       "      <th>5</th>\n",
       "      <td>79397676</td>\n",
       "      <td>Kyle Brooks</td>\n",
       "      <td>9</td>\n",
       "      <td>Turner High School</td>\n",
       "      <td>72.6</td>\n",
       "      <td>55.4</td>\n",
       "      <td>Public</td>\n",
       "    </tr>\n",
       "    <tr>\n",
       "      <th>11</th>\n",
       "      <td>127402895</td>\n",
       "      <td>Samuel Williams</td>\n",
       "      <td>11</td>\n",
       "      <td>Turner High School</td>\n",
       "      <td>91.6</td>\n",
       "      <td>54.9</td>\n",
       "      <td>Public</td>\n",
       "    </tr>\n",
       "  </tbody>\n",
       "</table>\n",
       "</div>"
      ],
      "text/plain": [
       "    student_id     student_name  grade           school_name  reading_score  \\\n",
       "8     67245222     Tina Roberts     12    Bowers High School           87.5   \n",
       "2     44359500        Ryan Haas     12  Campbell High School           91.6   \n",
       "0    127008367    Sarah Douglas     11     Chang High School           87.2   \n",
       "4    121467881  Harold Reynolds     12     Chang High School           68.7   \n",
       "10    67723113    Jeffrey Smith      9     Chang High School           84.4   \n",
       "7     52477762     Tracy Flores      9    Fisher High School           72.0   \n",
       "3     24791243     Kathryn Mack     11   Richard High School           68.9   \n",
       "9    101335836      Shane Smith      9     Silva High School           63.2   \n",
       "5     79397676      Kyle Brooks      9    Turner High School           72.6   \n",
       "11   127402895  Samuel Williams     11    Turner High School           91.6   \n",
       "\n",
       "    math_score school_type  \n",
       "8         81.5      Public  \n",
       "2         54.7      Public  \n",
       "0         64.1      Public  \n",
       "4         43.4      Public  \n",
       "10        83.8      Public  \n",
       "7         67.3      Public  \n",
       "3         73.3     Charter  \n",
       "9         79.1      Public  \n",
       "5         55.4      Public  \n",
       "11        54.9      Public  "
      ]
     },
     "execution_count": 20,
     "metadata": {},
     "output_type": "execute_result"
    }
   ],
   "source": [
    "# Use iloc to select the first 10 rows of data\n",
    "student_df.iloc[:10].sort_values(\"school_name\")"
   ]
  },
  {
   "cell_type": "markdown",
   "id": "3a26f54d",
   "metadata": {},
   "source": [
    "**2. Use `loc` with `describe` to view summary statistics for subsets of the DataFrame**"
   ]
  },
  {
   "cell_type": "code",
   "execution_count": 25,
   "id": "6cab5cb6-6c8d-44bb-b3a4-7d983c5db350",
   "metadata": {},
   "outputs": [
    {
     "data": {
      "text/html": [
       "<div>\n",
       "<style scoped>\n",
       "    .dataframe tbody tr th:only-of-type {\n",
       "        vertical-align: middle;\n",
       "    }\n",
       "\n",
       "    .dataframe tbody tr th {\n",
       "        vertical-align: top;\n",
       "    }\n",
       "\n",
       "    .dataframe thead th {\n",
       "        text-align: right;\n",
       "    }\n",
       "</style>\n",
       "<table border=\"1\" class=\"dataframe\">\n",
       "  <thead>\n",
       "    <tr style=\"text-align: right;\">\n",
       "      <th></th>\n",
       "      <th>student_id</th>\n",
       "      <th>grade</th>\n",
       "      <th>reading_score</th>\n",
       "      <th>math_score</th>\n",
       "    </tr>\n",
       "  </thead>\n",
       "  <tbody>\n",
       "    <tr>\n",
       "      <th>count</th>\n",
       "      <td>9.371000e+03</td>\n",
       "      <td>9371.000000</td>\n",
       "      <td>9371.000000</td>\n",
       "      <td>9371.000000</td>\n",
       "    </tr>\n",
       "    <tr>\n",
       "      <th>mean</th>\n",
       "      <td>6.974398e+07</td>\n",
       "      <td>10.538043</td>\n",
       "      <td>75.708078</td>\n",
       "      <td>64.697727</td>\n",
       "    </tr>\n",
       "    <tr>\n",
       "      <th>std</th>\n",
       "      <td>3.471334e+07</td>\n",
       "      <td>1.138498</td>\n",
       "      <td>14.112392</td>\n",
       "      <td>16.885912</td>\n",
       "    </tr>\n",
       "    <tr>\n",
       "      <th>min</th>\n",
       "      <td>1.000132e+07</td>\n",
       "      <td>9.000000</td>\n",
       "      <td>11.400000</td>\n",
       "      <td>1.400000</td>\n",
       "    </tr>\n",
       "    <tr>\n",
       "      <th>25%</th>\n",
       "      <td>3.965142e+07</td>\n",
       "      <td>9.000000</td>\n",
       "      <td>66.500000</td>\n",
       "      <td>53.000000</td>\n",
       "    </tr>\n",
       "    <tr>\n",
       "      <th>50%</th>\n",
       "      <td>7.018066e+07</td>\n",
       "      <td>11.000000</td>\n",
       "      <td>76.900000</td>\n",
       "      <td>65.500000</td>\n",
       "    </tr>\n",
       "    <tr>\n",
       "      <th>75%</th>\n",
       "      <td>9.984795e+07</td>\n",
       "      <td>12.000000</td>\n",
       "      <td>86.700000</td>\n",
       "      <td>77.100000</td>\n",
       "    </tr>\n",
       "    <tr>\n",
       "      <th>max</th>\n",
       "      <td>1.299903e+08</td>\n",
       "      <td>12.000000</td>\n",
       "      <td>100.000000</td>\n",
       "      <td>100.000000</td>\n",
       "    </tr>\n",
       "  </tbody>\n",
       "</table>\n",
       "</div>"
      ],
      "text/plain": [
       "         student_id        grade  reading_score   math_score\n",
       "count  9.371000e+03  9371.000000    9371.000000  9371.000000\n",
       "mean   6.974398e+07    10.538043      75.708078    64.697727\n",
       "std    3.471334e+07     1.138498      14.112392    16.885912\n",
       "min    1.000132e+07     9.000000      11.400000     1.400000\n",
       "25%    3.965142e+07     9.000000      66.500000    53.000000\n",
       "50%    7.018066e+07    11.000000      76.900000    65.500000\n",
       "75%    9.984795e+07    12.000000      86.700000    77.100000\n",
       "max    1.299903e+08    12.000000     100.000000   100.000000"
      ]
     },
     "execution_count": 25,
     "metadata": {},
     "output_type": "execute_result"
    }
   ],
   "source": [
    "# Use loc to look at all public schools; use describe on this subset\n",
    "public_schools_df = student_df.loc[student_df[\"school_type\"] == \"Public\"]\n",
    "public_schools_df.describe()"
   ]
  },
  {
   "cell_type": "code",
   "execution_count": 26,
   "id": "02d03d68-cbfe-464a-8b81-da234d2dcc3b",
   "metadata": {},
   "outputs": [
    {
     "data": {
      "text/html": [
       "<div>\n",
       "<style scoped>\n",
       "    .dataframe tbody tr th:only-of-type {\n",
       "        vertical-align: middle;\n",
       "    }\n",
       "\n",
       "    .dataframe tbody tr th {\n",
       "        vertical-align: top;\n",
       "    }\n",
       "\n",
       "    .dataframe thead th {\n",
       "        text-align: right;\n",
       "    }\n",
       "</style>\n",
       "<table border=\"1\" class=\"dataframe\">\n",
       "  <thead>\n",
       "    <tr style=\"text-align: right;\">\n",
       "      <th></th>\n",
       "      <th>student_id</th>\n",
       "      <th>grade</th>\n",
       "      <th>reading_score</th>\n",
       "      <th>math_score</th>\n",
       "    </tr>\n",
       "  </thead>\n",
       "  <tbody>\n",
       "    <tr>\n",
       "      <th>count</th>\n",
       "      <td>1.233000e+03</td>\n",
       "      <td>1233.000000</td>\n",
       "      <td>1233.000000</td>\n",
       "      <td>1233.000000</td>\n",
       "    </tr>\n",
       "    <tr>\n",
       "      <th>mean</th>\n",
       "      <td>6.953366e+07</td>\n",
       "      <td>10.778589</td>\n",
       "      <td>71.695539</td>\n",
       "      <td>61.649148</td>\n",
       "    </tr>\n",
       "    <tr>\n",
       "      <th>std</th>\n",
       "      <td>3.468531e+07</td>\n",
       "      <td>1.029025</td>\n",
       "      <td>15.066829</td>\n",
       "      <td>14.580061</td>\n",
       "    </tr>\n",
       "    <tr>\n",
       "      <th>min</th>\n",
       "      <td>1.002379e+07</td>\n",
       "      <td>9.000000</td>\n",
       "      <td>9.500000</td>\n",
       "      <td>16.900000</td>\n",
       "    </tr>\n",
       "    <tr>\n",
       "      <th>25%</th>\n",
       "      <td>4.039925e+07</td>\n",
       "      <td>10.000000</td>\n",
       "      <td>61.600000</td>\n",
       "      <td>51.200000</td>\n",
       "    </tr>\n",
       "    <tr>\n",
       "      <th>50%</th>\n",
       "      <td>6.871485e+07</td>\n",
       "      <td>11.000000</td>\n",
       "      <td>72.300000</td>\n",
       "      <td>62.200000</td>\n",
       "    </tr>\n",
       "    <tr>\n",
       "      <th>75%</th>\n",
       "      <td>9.979185e+07</td>\n",
       "      <td>12.000000</td>\n",
       "      <td>83.400000</td>\n",
       "      <td>72.100000</td>\n",
       "    </tr>\n",
       "    <tr>\n",
       "      <th>max</th>\n",
       "      <td>1.297629e+08</td>\n",
       "      <td>12.000000</td>\n",
       "      <td>99.900000</td>\n",
       "      <td>100.000000</td>\n",
       "    </tr>\n",
       "  </tbody>\n",
       "</table>\n",
       "</div>"
      ],
      "text/plain": [
       "         student_id        grade  reading_score   math_score\n",
       "count  1.233000e+03  1233.000000    1233.000000  1233.000000\n",
       "mean   6.953366e+07    10.778589      71.695539    61.649148\n",
       "std    3.468531e+07     1.029025      15.066829    14.580061\n",
       "min    1.002379e+07     9.000000       9.500000    16.900000\n",
       "25%    4.039925e+07    10.000000      61.600000    51.200000\n",
       "50%    6.871485e+07    11.000000      72.300000    62.200000\n",
       "75%    9.979185e+07    12.000000      83.400000    72.100000\n",
       "max    1.297629e+08    12.000000      99.900000   100.000000"
      ]
     },
     "execution_count": 26,
     "metadata": {},
     "output_type": "execute_result"
    }
   ],
   "source": [
    "# Use loc to look at all charter schools; use describe on this subset\n",
    "charter_schools_df = student_df.loc[student_df[\"school_type\"] == \"Charter\"]\n",
    "charter_schools_df.describe()"
   ]
  },
  {
   "cell_type": "markdown",
   "id": "6f248e3d-78af-48a6-bdb1-71be8fa009f6",
   "metadata": {},
   "source": [
    "**3. Store the row with the minimum math score as min_math_row.**"
   ]
  },
  {
   "cell_type": "code",
   "execution_count": 24,
   "id": "6b027846-93b3-4f74-a667-5cfe5b8bd78e",
   "metadata": {},
   "outputs": [
    {
     "data": {
      "text/html": [
       "<div>\n",
       "<style scoped>\n",
       "    .dataframe tbody tr th:only-of-type {\n",
       "        vertical-align: middle;\n",
       "    }\n",
       "\n",
       "    .dataframe tbody tr th {\n",
       "        vertical-align: top;\n",
       "    }\n",
       "\n",
       "    .dataframe thead th {\n",
       "        text-align: right;\n",
       "    }\n",
       "</style>\n",
       "<table border=\"1\" class=\"dataframe\">\n",
       "  <thead>\n",
       "    <tr style=\"text-align: right;\">\n",
       "      <th></th>\n",
       "      <th>student_id</th>\n",
       "      <th>student_name</th>\n",
       "      <th>grade</th>\n",
       "      <th>school_name</th>\n",
       "      <th>reading_score</th>\n",
       "      <th>math_score</th>\n",
       "      <th>school_type</th>\n",
       "    </tr>\n",
       "  </thead>\n",
       "  <tbody>\n",
       "    <tr>\n",
       "      <th>6772</th>\n",
       "      <td>10439629</td>\n",
       "      <td>Kevin Davis</td>\n",
       "      <td>11</td>\n",
       "      <td>Green High School</td>\n",
       "      <td>68.1</td>\n",
       "      <td>1.4</td>\n",
       "      <td>Public</td>\n",
       "    </tr>\n",
       "  </tbody>\n",
       "</table>\n",
       "</div>"
      ],
      "text/plain": [
       "      student_id student_name  grade        school_name  reading_score  \\\n",
       "6772    10439629  Kevin Davis     11  Green High School           68.1   \n",
       "\n",
       "      math_score school_type  \n",
       "6772         1.4      Public  "
      ]
     },
     "execution_count": 24,
     "metadata": {},
     "output_type": "execute_result"
    }
   ],
   "source": [
    "min_math_score = student_df[\"math_score\"].min()\n",
    "min_math_row = student_df.loc[student_df[\"math_score\"] == min_math_score]\n",
    "min_math_row"
   ]
  },
  {
   "cell_type": "markdown",
   "id": "758569f4-fedf-47f0-a7e0-ff81d1091fe3",
   "metadata": {},
   "source": [
    "**4. Find the average math score for Green High School.**"
   ]
  },
  {
   "cell_type": "code",
   "execution_count": 27,
   "id": "b36d7bc8-d2b4-4986-9a46-d9fbb0dffb98",
   "metadata": {},
   "outputs": [
    {
     "data": {
      "text/plain": [
       "58.9702380952381"
      ]
     },
     "execution_count": 27,
     "metadata": {},
     "output_type": "execute_result"
    }
   ],
   "source": [
    "student_df.loc[student_df[\"school_name\"] == \"Green High School\", \"math_score\"].mean()"
   ]
  },
  {
   "cell_type": "markdown",
   "id": "d42ed9e4-04b0-4fc0-9222-b6b4e1fb1d12",
   "metadata": {},
   "source": [
    "**5. Use conditionals to select rows where students scored less than 70 in math.**"
   ]
  },
  {
   "cell_type": "code",
   "execution_count": 31,
   "id": "ad03022b-03b3-4f92-a298-486ac3814f9d",
   "metadata": {},
   "outputs": [
    {
     "data": {
      "text/html": [
       "<div>\n",
       "<style scoped>\n",
       "    .dataframe tbody tr th:only-of-type {\n",
       "        vertical-align: middle;\n",
       "    }\n",
       "\n",
       "    .dataframe tbody tr th {\n",
       "        vertical-align: top;\n",
       "    }\n",
       "\n",
       "    .dataframe thead th {\n",
       "        text-align: right;\n",
       "    }\n",
       "</style>\n",
       "<table border=\"1\" class=\"dataframe\">\n",
       "  <thead>\n",
       "    <tr style=\"text-align: right;\">\n",
       "      <th></th>\n",
       "      <th>student_id</th>\n",
       "      <th>student_name</th>\n",
       "      <th>grade</th>\n",
       "      <th>school_name</th>\n",
       "      <th>reading_score</th>\n",
       "      <th>math_score</th>\n",
       "      <th>school_type</th>\n",
       "    </tr>\n",
       "  </thead>\n",
       "  <tbody>\n",
       "    <tr>\n",
       "      <th>0</th>\n",
       "      <td>127008367</td>\n",
       "      <td>Sarah Douglas</td>\n",
       "      <td>11</td>\n",
       "      <td>Chang High School</td>\n",
       "      <td>87.2</td>\n",
       "      <td>64.1</td>\n",
       "      <td>Public</td>\n",
       "    </tr>\n",
       "    <tr>\n",
       "      <th>2</th>\n",
       "      <td>44359500</td>\n",
       "      <td>Ryan Haas</td>\n",
       "      <td>12</td>\n",
       "      <td>Campbell High School</td>\n",
       "      <td>91.6</td>\n",
       "      <td>54.7</td>\n",
       "      <td>Public</td>\n",
       "    </tr>\n",
       "    <tr>\n",
       "      <th>4</th>\n",
       "      <td>121467881</td>\n",
       "      <td>Harold Reynolds</td>\n",
       "      <td>12</td>\n",
       "      <td>Chang High School</td>\n",
       "      <td>68.7</td>\n",
       "      <td>43.4</td>\n",
       "      <td>Public</td>\n",
       "    </tr>\n",
       "    <tr>\n",
       "      <th>5</th>\n",
       "      <td>79397676</td>\n",
       "      <td>Kyle Brooks</td>\n",
       "      <td>9</td>\n",
       "      <td>Turner High School</td>\n",
       "      <td>72.6</td>\n",
       "      <td>55.4</td>\n",
       "      <td>Public</td>\n",
       "    </tr>\n",
       "    <tr>\n",
       "      <th>7</th>\n",
       "      <td>52477762</td>\n",
       "      <td>Tracy Flores</td>\n",
       "      <td>9</td>\n",
       "      <td>Fisher High School</td>\n",
       "      <td>72.0</td>\n",
       "      <td>67.3</td>\n",
       "      <td>Public</td>\n",
       "    </tr>\n",
       "    <tr>\n",
       "      <th>...</th>\n",
       "      <td>...</td>\n",
       "      <td>...</td>\n",
       "      <td>...</td>\n",
       "      <td>...</td>\n",
       "      <td>...</td>\n",
       "      <td>...</td>\n",
       "      <td>...</td>\n",
       "    </tr>\n",
       "    <tr>\n",
       "      <th>13923</th>\n",
       "      <td>60616803</td>\n",
       "      <td>Sheryl Clarke</td>\n",
       "      <td>11</td>\n",
       "      <td>Fisher High School</td>\n",
       "      <td>84.6</td>\n",
       "      <td>43.7</td>\n",
       "      <td>Public</td>\n",
       "    </tr>\n",
       "    <tr>\n",
       "      <th>13924</th>\n",
       "      <td>56287453</td>\n",
       "      <td>Maria Powell</td>\n",
       "      <td>10</td>\n",
       "      <td>Richard High School</td>\n",
       "      <td>65.6</td>\n",
       "      <td>67.6</td>\n",
       "      <td>Charter</td>\n",
       "    </tr>\n",
       "    <tr>\n",
       "      <th>13929</th>\n",
       "      <td>128983164</td>\n",
       "      <td>Jeffery Moore</td>\n",
       "      <td>10</td>\n",
       "      <td>Campbell High School</td>\n",
       "      <td>96.5</td>\n",
       "      <td>48.1</td>\n",
       "      <td>Public</td>\n",
       "    </tr>\n",
       "    <tr>\n",
       "      <th>13932</th>\n",
       "      <td>126977198</td>\n",
       "      <td>Cindy Thomas</td>\n",
       "      <td>9</td>\n",
       "      <td>Fisher High School</td>\n",
       "      <td>89.1</td>\n",
       "      <td>61.1</td>\n",
       "      <td>Public</td>\n",
       "    </tr>\n",
       "    <tr>\n",
       "      <th>13935</th>\n",
       "      <td>32277979</td>\n",
       "      <td>Kelly Myers</td>\n",
       "      <td>10</td>\n",
       "      <td>Sullivan High School</td>\n",
       "      <td>62.3</td>\n",
       "      <td>37.9</td>\n",
       "      <td>Public</td>\n",
       "    </tr>\n",
       "  </tbody>\n",
       "</table>\n",
       "<p>6459 rows × 7 columns</p>\n",
       "</div>"
      ],
      "text/plain": [
       "       student_id     student_name  grade           school_name  \\\n",
       "0       127008367    Sarah Douglas     11     Chang High School   \n",
       "2        44359500        Ryan Haas     12  Campbell High School   \n",
       "4       121467881  Harold Reynolds     12     Chang High School   \n",
       "5        79397676      Kyle Brooks      9    Turner High School   \n",
       "7        52477762     Tracy Flores      9    Fisher High School   \n",
       "...           ...              ...    ...                   ...   \n",
       "13923    60616803    Sheryl Clarke     11    Fisher High School   \n",
       "13924    56287453     Maria Powell     10   Richard High School   \n",
       "13929   128983164    Jeffery Moore     10  Campbell High School   \n",
       "13932   126977198     Cindy Thomas      9    Fisher High School   \n",
       "13935    32277979      Kelly Myers     10  Sullivan High School   \n",
       "\n",
       "       reading_score  math_score school_type  \n",
       "0               87.2        64.1      Public  \n",
       "2               91.6        54.7      Public  \n",
       "4               68.7        43.4      Public  \n",
       "5               72.6        55.4      Public  \n",
       "7               72.0        67.3      Public  \n",
       "...              ...         ...         ...  \n",
       "13923           84.6        43.7      Public  \n",
       "13924           65.6        67.6     Charter  \n",
       "13929           96.5        48.1      Public  \n",
       "13932           89.1        61.1      Public  \n",
       "13935           62.3        37.9      Public  \n",
       "\n",
       "[6459 rows x 7 columns]"
      ]
     },
     "execution_count": 31,
     "metadata": {},
     "output_type": "execute_result"
    }
   ],
   "source": [
    "# Use conditional selection to return student data for those students scoring less than 70 in math\n",
    "student_df.loc[student_df[\"math_score\"] < 70]"
   ]
  }
 ],
 "metadata": {
  "kernelspec": {
   "display_name": "Python 3",
   "language": "python",
   "name": "python3"
  },
  "language_info": {
   "codemirror_mode": {
    "name": "ipython",
    "version": 3
   },
   "file_extension": ".py",
   "mimetype": "text/x-python",
   "name": "python",
   "nbconvert_exporter": "python",
   "pygments_lexer": "ipython3",
   "version": "3.8.8"
  }
 },
 "nbformat": 4,
 "nbformat_minor": 5
}
