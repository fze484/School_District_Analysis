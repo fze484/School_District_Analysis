{
 "cells": [
  {
   "cell_type": "markdown",
   "metadata": {
    "tags": []
   },
   "source": [
    "## Student Data Analysis\n",
    "\n",
    "In this activity, you will use the steps below to analyze a dataset of student test scores from schools in a fake school district.\n",
    "\n",
    "1. Collect the data.\n",
    "\n",
    "2. Prepare the data.\n",
    "\n",
    "3. Summarize the data. \n",
    "\n",
    "4. Drill down into the data. \n",
    "\n",
    "5. Make comparisons. \n",
    "\n"
   ]
  },
  {
   "cell_type": "markdown",
   "metadata": {},
   "source": [
    "### Import required libraries and dependencies\n",
    "\n",
    "<!-- https://pypi.org/project/pathlib2/ -->"
   ]
  },
  {
   "cell_type": "code",
   "execution_count": 2,
   "metadata": {},
   "outputs": [],
   "source": [
    "import pandas as pd\n",
    "import os"
   ]
  },
  {
   "cell_type": "markdown",
   "metadata": {},
   "source": [
    "## Step 1: Collect the data.\n",
    "\n",
    "To collect the data that you’ll need, complete the following steps:\n",
    "\n",
    "**1. Using the Pandas `read_csv` function and the `os.path.join` function, import the data from the `new_student_data.csv` file, and create a DataFrame called student_df.**"
   ]
  },
  {
   "cell_type": "code",
   "execution_count": 3,
   "metadata": {},
   "outputs": [],
   "source": [
    "student_data = os.path.join('../Resources/new_student_data.csv')\n",
    "student_df = pd.read_csv(student_data)"
   ]
  },
  {
   "cell_type": "markdown",
   "metadata": {},
   "source": [
    "**2. Use the head (and/or the tail) function to confirm that Pandas properly imported the data.**"
   ]
  },
  {
   "cell_type": "code",
   "execution_count": 4,
   "metadata": {},
   "outputs": [
    {
     "data": {
      "text/html": [
       "<div>\n",
       "<style scoped>\n",
       "    .dataframe tbody tr th:only-of-type {\n",
       "        vertical-align: middle;\n",
       "    }\n",
       "\n",
       "    .dataframe tbody tr th {\n",
       "        vertical-align: top;\n",
       "    }\n",
       "\n",
       "    .dataframe thead th {\n",
       "        text-align: right;\n",
       "    }\n",
       "</style>\n",
       "<table border=\"1\" class=\"dataframe\">\n",
       "  <thead>\n",
       "    <tr style=\"text-align: right;\">\n",
       "      <th></th>\n",
       "      <th>student_id</th>\n",
       "      <th>student_name</th>\n",
       "      <th>grade</th>\n",
       "      <th>school_name</th>\n",
       "      <th>reading_score</th>\n",
       "      <th>math_score</th>\n",
       "      <th>school_type</th>\n",
       "    </tr>\n",
       "  </thead>\n",
       "  <tbody>\n",
       "    <tr>\n",
       "      <th>0</th>\n",
       "      <td>127008367</td>\n",
       "      <td>Sarah Douglas</td>\n",
       "      <td>11th</td>\n",
       "      <td>Chang High School</td>\n",
       "      <td>87.2</td>\n",
       "      <td>64.1</td>\n",
       "      <td>Public</td>\n",
       "    </tr>\n",
       "    <tr>\n",
       "      <th>1</th>\n",
       "      <td>33365505</td>\n",
       "      <td>Francisco Osborne</td>\n",
       "      <td>9th</td>\n",
       "      <td>Fisher High School</td>\n",
       "      <td>NaN</td>\n",
       "      <td>NaN</td>\n",
       "      <td>Public</td>\n",
       "    </tr>\n",
       "    <tr>\n",
       "      <th>2</th>\n",
       "      <td>44359500</td>\n",
       "      <td>Ryan Haas</td>\n",
       "      <td>12th</td>\n",
       "      <td>Campbell High School</td>\n",
       "      <td>91.6</td>\n",
       "      <td>54.7</td>\n",
       "      <td>Public</td>\n",
       "    </tr>\n",
       "    <tr>\n",
       "      <th>3</th>\n",
       "      <td>24791243</td>\n",
       "      <td>Kathryn Mack</td>\n",
       "      <td>11th</td>\n",
       "      <td>Richard High School</td>\n",
       "      <td>68.9</td>\n",
       "      <td>73.3</td>\n",
       "      <td>Charter</td>\n",
       "    </tr>\n",
       "    <tr>\n",
       "      <th>4</th>\n",
       "      <td>121467881</td>\n",
       "      <td>Harold Reynolds</td>\n",
       "      <td>12th</td>\n",
       "      <td>Chang High School</td>\n",
       "      <td>68.7</td>\n",
       "      <td>43.4</td>\n",
       "      <td>Public</td>\n",
       "    </tr>\n",
       "  </tbody>\n",
       "</table>\n",
       "</div>"
      ],
      "text/plain": [
       "   student_id       student_name grade           school_name  reading_score  \\\n",
       "0   127008367      Sarah Douglas  11th     Chang High School           87.2   \n",
       "1    33365505  Francisco Osborne   9th    Fisher High School            NaN   \n",
       "2    44359500          Ryan Haas  12th  Campbell High School           91.6   \n",
       "3    24791243       Kathryn Mack  11th   Richard High School           68.9   \n",
       "4   121467881    Harold Reynolds  12th     Chang High School           68.7   \n",
       "\n",
       "   math_score school_type  \n",
       "0        64.1      Public  \n",
       "1         NaN      Public  \n",
       "2        54.7      Public  \n",
       "3        73.3     Charter  \n",
       "4        43.4      Public  "
      ]
     },
     "execution_count": 4,
     "metadata": {},
     "output_type": "execute_result"
    }
   ],
   "source": [
    "student_df.head()"
   ]
  },
  {
   "cell_type": "markdown",
   "metadata": {},
   "source": [
    "## Step 2: Prepare the Data\n",
    "\n",
    "To prepare and clean your data for analysis, complete the following steps:\n",
    "    \n",
    "**1. Check for and replace all `NaN`, or missing, values in the student_df DataFrame.**\n",
    "\n",
    "Use the following methods and functions to complete this section:\n",
    "* `count()`\n",
    "* `dropna()`\n",
    "* `duplicated()`\n",
    "* `sum()`\n",
    "* `drop_duplicates()`"
   ]
  },
  {
   "cell_type": "code",
   "execution_count": 6,
   "metadata": {},
   "outputs": [
    {
     "data": {
      "text/plain": [
       "student_id          0\n",
       "student_name        0\n",
       "grade               0\n",
       "school_name         0\n",
       "reading_score    1414\n",
       "math_score        705\n",
       "school_type         0\n",
       "dtype: int64"
      ]
     },
     "execution_count": 6,
     "metadata": {},
     "output_type": "execute_result"
    }
   ],
   "source": [
    "# Check for null values\n",
    "student_df.isnull().sum()"
   ]
  },
  {
   "cell_type": "code",
   "execution_count": 10,
   "metadata": {},
   "outputs": [
    {
     "data": {
      "text/plain": [
       "student_id       0\n",
       "student_name     0\n",
       "grade            0\n",
       "school_name      0\n",
       "reading_score    0\n",
       "math_score       0\n",
       "school_type      0\n",
       "dtype: int64"
      ]
     },
     "execution_count": 10,
     "metadata": {},
     "output_type": "execute_result"
    }
   ],
   "source": [
    "# Drop null values\n",
    "student_df=student_df.dropna()\n",
    "student_df.isnull().sum()"
   ]
  },
  {
   "cell_type": "code",
   "execution_count": 12,
   "metadata": {},
   "outputs": [
    {
     "data": {
      "text/plain": [
       "1299"
      ]
     },
     "execution_count": 12,
     "metadata": {},
     "output_type": "execute_result"
    }
   ],
   "source": [
    "# Check for duplicate rows\n",
    "student_df.duplicated().sum()"
   ]
  },
  {
   "cell_type": "code",
   "execution_count": 13,
   "metadata": {},
   "outputs": [
    {
     "data": {
      "text/plain": [
       "0"
      ]
     },
     "execution_count": 13,
     "metadata": {},
     "output_type": "execute_result"
    }
   ],
   "source": [
    "# Drop duplicate rows\n",
    "student_df=student_df.drop_duplicates()\n",
    "student_df.duplicated().sum()"
   ]
  },
  {
   "cell_type": "markdown",
   "metadata": {},
   "source": [
    "**2. Use the `str.replace` function to remove the \"th\" from the grade levels in the grade column.**"
   ]
  },
  {
   "cell_type": "code",
   "execution_count": 14,
   "metadata": {},
   "outputs": [
    {
     "data": {
      "text/plain": [
       "dtype('O')"
      ]
     },
     "execution_count": 14,
     "metadata": {},
     "output_type": "execute_result"
    }
   ],
   "source": [
    "# Check the type of the grade column with dtypes\n",
    "student_df.grade.dtypes"
   ]
  },
  {
   "cell_type": "code",
   "execution_count": 15,
   "metadata": {},
   "outputs": [
    {
     "data": {
      "text/plain": [
       "0        11th\n",
       "2        12th\n",
       "3        11th\n",
       "4        12th\n",
       "5         9th\n",
       "         ... \n",
       "13935    10th\n",
       "13936    10th\n",
       "13937     9th\n",
       "13938    10th\n",
       "13939    11th\n",
       "Name: grade, Length: 10604, dtype: object"
      ]
     },
     "execution_count": 15,
     "metadata": {},
     "output_type": "execute_result"
    }
   ],
   "source": [
    "# View the grade column to look for a reason it isn't numeric\n",
    "student_df.grade"
   ]
  },
  {
   "cell_type": "code",
   "execution_count": 16,
   "metadata": {},
   "outputs": [],
   "source": [
    "# Remove 'th' suffixes by replacing with and empty string\n",
    "student_df.loc[:, \"grade\"] = student_df.loc[:, \"grade\"].str.replace(\"th\",\"\")"
   ]
  },
  {
   "cell_type": "code",
   "execution_count": 17,
   "metadata": {},
   "outputs": [
    {
     "data": {
      "text/plain": [
       "0        11\n",
       "2        12\n",
       "3        11\n",
       "4        12\n",
       "5         9\n",
       "         ..\n",
       "13935    10\n",
       "13936    10\n",
       "13937     9\n",
       "13938    10\n",
       "13939    11\n",
       "Name: grade, Length: 10604, dtype: object"
      ]
     },
     "execution_count": 17,
     "metadata": {},
     "output_type": "execute_result"
    }
   ],
   "source": [
    "# View the grade column to ensure the suffixes were removed\n",
    "student_df.grade"
   ]
  },
  {
   "cell_type": "markdown",
   "metadata": {},
   "source": [
    "**3. Convert the data type of the \"grade\" column to a `int`.**"
   ]
  },
  {
   "cell_type": "code",
   "execution_count": 18,
   "metadata": {},
   "outputs": [
    {
     "data": {
      "text/plain": [
       "0        11.0\n",
       "2        12.0\n",
       "3        11.0\n",
       "4        12.0\n",
       "5         9.0\n",
       "         ... \n",
       "13935    10.0\n",
       "13936    10.0\n",
       "13937     9.0\n",
       "13938    10.0\n",
       "13939    11.0\n",
       "Name: grade, Length: 10604, dtype: float64"
      ]
     },
     "execution_count": 18,
     "metadata": {},
     "output_type": "execute_result"
    }
   ],
   "source": [
    "student_df.grade.astype(float)"
   ]
  },
  {
   "cell_type": "markdown",
   "metadata": {},
   "source": [
    "**4. Use the head (and/or the tail) function to preview the DataFrame.**"
   ]
  },
  {
   "cell_type": "code",
   "execution_count": 19,
   "metadata": {},
   "outputs": [
    {
     "data": {
      "text/html": [
       "<div>\n",
       "<style scoped>\n",
       "    .dataframe tbody tr th:only-of-type {\n",
       "        vertical-align: middle;\n",
       "    }\n",
       "\n",
       "    .dataframe tbody tr th {\n",
       "        vertical-align: top;\n",
       "    }\n",
       "\n",
       "    .dataframe thead th {\n",
       "        text-align: right;\n",
       "    }\n",
       "</style>\n",
       "<table border=\"1\" class=\"dataframe\">\n",
       "  <thead>\n",
       "    <tr style=\"text-align: right;\">\n",
       "      <th></th>\n",
       "      <th>student_id</th>\n",
       "      <th>student_name</th>\n",
       "      <th>grade</th>\n",
       "      <th>school_name</th>\n",
       "      <th>reading_score</th>\n",
       "      <th>math_score</th>\n",
       "      <th>school_type</th>\n",
       "    </tr>\n",
       "  </thead>\n",
       "  <tbody>\n",
       "    <tr>\n",
       "      <th>0</th>\n",
       "      <td>127008367</td>\n",
       "      <td>Sarah Douglas</td>\n",
       "      <td>11</td>\n",
       "      <td>Chang High School</td>\n",
       "      <td>87.2</td>\n",
       "      <td>64.1</td>\n",
       "      <td>Public</td>\n",
       "    </tr>\n",
       "    <tr>\n",
       "      <th>2</th>\n",
       "      <td>44359500</td>\n",
       "      <td>Ryan Haas</td>\n",
       "      <td>12</td>\n",
       "      <td>Campbell High School</td>\n",
       "      <td>91.6</td>\n",
       "      <td>54.7</td>\n",
       "      <td>Public</td>\n",
       "    </tr>\n",
       "    <tr>\n",
       "      <th>3</th>\n",
       "      <td>24791243</td>\n",
       "      <td>Kathryn Mack</td>\n",
       "      <td>11</td>\n",
       "      <td>Richard High School</td>\n",
       "      <td>68.9</td>\n",
       "      <td>73.3</td>\n",
       "      <td>Charter</td>\n",
       "    </tr>\n",
       "    <tr>\n",
       "      <th>4</th>\n",
       "      <td>121467881</td>\n",
       "      <td>Harold Reynolds</td>\n",
       "      <td>12</td>\n",
       "      <td>Chang High School</td>\n",
       "      <td>68.7</td>\n",
       "      <td>43.4</td>\n",
       "      <td>Public</td>\n",
       "    </tr>\n",
       "    <tr>\n",
       "      <th>5</th>\n",
       "      <td>79397676</td>\n",
       "      <td>Kyle Brooks</td>\n",
       "      <td>9</td>\n",
       "      <td>Turner High School</td>\n",
       "      <td>72.6</td>\n",
       "      <td>55.4</td>\n",
       "      <td>Public</td>\n",
       "    </tr>\n",
       "  </tbody>\n",
       "</table>\n",
       "</div>"
      ],
      "text/plain": [
       "   student_id     student_name grade           school_name  reading_score  \\\n",
       "0   127008367    Sarah Douglas    11     Chang High School           87.2   \n",
       "2    44359500        Ryan Haas    12  Campbell High School           91.6   \n",
       "3    24791243     Kathryn Mack    11   Richard High School           68.9   \n",
       "4   121467881  Harold Reynolds    12     Chang High School           68.7   \n",
       "5    79397676      Kyle Brooks     9    Turner High School           72.6   \n",
       "\n",
       "   math_score school_type  \n",
       "0        64.1      Public  \n",
       "2        54.7      Public  \n",
       "3        73.3     Charter  \n",
       "4        43.4      Public  \n",
       "5        55.4      Public  "
      ]
     },
     "execution_count": 19,
     "metadata": {},
     "output_type": "execute_result"
    }
   ],
   "source": [
    "student_df.head()"
   ]
  },
  {
   "cell_type": "markdown",
   "metadata": {},
   "source": [
    "## Good work!\n",
    "\n",
    "You are now prepared to start the next lesson before starting step 3."
   ]
  }
 ],
 "metadata": {
  "kernelspec": {
   "display_name": "Python 3",
   "language": "python",
   "name": "python3"
  },
  "language_info": {
   "codemirror_mode": {
    "name": "ipython",
    "version": 3
   },
   "file_extension": ".py",
   "mimetype": "text/x-python",
   "name": "python",
   "nbconvert_exporter": "python",
   "pygments_lexer": "ipython3",
   "version": "3.8.5"
  }
 },
 "nbformat": 4,
 "nbformat_minor": 5
}
